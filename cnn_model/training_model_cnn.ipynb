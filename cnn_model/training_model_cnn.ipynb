{
 "cells": [
  {
   "cell_type": "code",
   "execution_count": null,
   "metadata": {},
   "outputs": [],
   "source": [
    "import tensorflow as tf\n",
    "from tensorflow import keras\n",
    "from tensorflow.keras import layers\n",
    "from tensorflow.keras.layers import BatchNormalization\n",
    "import matplotlib.pyplot as plt"
   ]
  },
  {
   "cell_type": "markdown",
   "metadata": {},
   "source": [
    "### Step 1: Data loading and preprocessing"
   ]
  },
  {
   "cell_type": "code",
   "execution_count": null,
   "metadata": {},
   "outputs": [],
   "source": [
    "data_dir = \"path/to/your/dataset\"\n",
    "\n",
    "# Label is inferred by the folder (office or screenshot)\n",
    "dataset = tf.keras.preprocessing.image_dataset_from_directory(\n",
    "    data_dir,\n",
    "    labels = 'inferred',\n",
    "    label_mode = 'binary',\n",
    "    image_size = (128, 128),\n",
    "    batch_size = 32,\n",
    "    shuffle = True\n",
    ")\n",
    "\n",
    "# Display the total number of images of the dataset\n",
    "total_images = 0\n",
    "for images, labels in dataset:\n",
    "    total_images += images.shape[0]\n",
    "\n",
    "print(f'Total number of images in the dataset: {total_images}')"
   ]
  },
  {
   "cell_type": "code",
   "execution_count": null,
   "metadata": {},
   "outputs": [],
   "source": [
    "# Plot some images to visualize how they will be input into the model\n",
    "class_names = dataset.class_names\n",
    "\n",
    "plt.figure(figsize=(10, 10))\n",
    "for images, labels in dataset.take(1):\n",
    "    for i in range(6):\n",
    "        ax = plt.subplot(3, 3, i + 1)\n",
    "        plt.imshow(images[i].numpy().astype(\"uint8\"))\n",
    "        label_index = int(labels[i])\n",
    "        plt.title(class_names[label_index])\n",
    "        plt.axis(\"off\")\n",
    "plt.show()"
   ]
  },
  {
   "cell_type": "code",
   "execution_count": null,
   "metadata": {},
   "outputs": [],
   "source": [
    "# Normalization to [0, 1]\n",
    "def normalize(image, label):\n",
    "    image = tf.cast(image, tf.float32) / 255\n",
    "    return image, label\n",
    "\n",
    "dataset = dataset.map(normalize)"
   ]
  },
  {
   "cell_type": "code",
   "execution_count": null,
   "metadata": {},
   "outputs": [],
   "source": [
    "# Split into training and validation datasets\n",
    "dataset_size = len(list(dataset))\n",
    "train_size = int(0.8 * dataset_size)\n",
    "\n",
    "train_dataset = dataset.take(train_size)\n",
    "valid_dataset = dataset.skip(train_size)"
   ]
  },
  {
   "cell_type": "markdown",
   "metadata": {},
   "source": [
    "### Step 2: Define model architecture"
   ]
  },
  {
   "cell_type": "code",
   "execution_count": null,
   "metadata": {},
   "outputs": [],
   "source": [
    "# Model will be a CNN with thre convolutional blocks and the head\n",
    "modelCNN = keras.Sequential([\n",
    "    # First block\n",
    "    layers.Conv2D(32, (3,3), activation='relu', padding='same', input_shape=(128, 128, 3)),\n",
    "    layers.Conv2D(32, (3,3), activation='relu', padding='same', input_shape=(128, 128, 3)),\n",
    "    layers.MaxPool2D(),\n",
    "\n",
    "    # Second block\n",
    "    layers.Conv2D(64, (3,3), activation='relu', padding='same', input_shape=(128, 128, 3)),\n",
    "    layers.Conv2D(64, (3,3), activation='relu', padding='same', input_shape=(128, 128, 3)),\n",
    "    layers.MaxPool2D(),\n",
    "\n",
    "    # Third block\n",
    "    layers.Conv2D(128, (3,3), activation='relu', padding='same', input_shape=(128, 128, 3)),\n",
    "    layers.Conv2D(128, (3,3), activation='relu', padding='same', input_shape=(128, 128, 3)),\n",
    "    layers.MaxPool2D(),\n",
    "\n",
    "    # Classifier head\n",
    "    layers.Dropout(0.3),\n",
    "    layers.Flatten(),\n",
    "    layers.Dense(units=50, activation='relu'),\n",
    "    layers.Dense(units=2, activation='sigmoid')\n",
    "])"
   ]
  },
  {
   "cell_type": "code",
   "execution_count": null,
   "metadata": {},
   "outputs": [],
   "source": [
    "modelCNN.compile(optimizer='adam',\n",
    "                 loss='sparse_categorical_crossentropy',\n",
    "                 metrics=['accuracy'])"
   ]
  },
  {
   "cell_type": "markdown",
   "metadata": {},
   "source": [
    "### Step 3: Train the model"
   ]
  },
  {
   "cell_type": "code",
   "execution_count": null,
   "metadata": {},
   "outputs": [],
   "source": [
    "history = modelCNN.fit(train_dataset, validation_data=valid_dataset, epochs=10)"
   ]
  },
  {
   "cell_type": "code",
   "execution_count": null,
   "metadata": {},
   "outputs": [],
   "source": [
    "plt.figure(figsize=(8, 6))\n",
    "plt.plot(history.history['accuracy'], label='Training Accuracy')\n",
    "plt.plot(history.history['val_accuracy'], label='Validation Accuracy')\n",
    "plt.title('Model Accuracy')\n",
    "plt.xlabel('Epoch')\n",
    "plt.ylabel('Accuracy')\n",
    "plt.legend(loc='lower right')\n",
    "plt.grid(False)\n",
    "plt.show()"
   ]
  },
  {
   "cell_type": "markdown",
   "metadata": {},
   "source": [
    "### Step 4: Evaluate and save"
   ]
  },
  {
   "cell_type": "code",
   "execution_count": null,
   "metadata": {},
   "outputs": [],
   "source": [
    "loss, accuracy = modelCNN.evaluate(valid_dataset)\n",
    "print(f'Validation accuracy: {accuracy:.2f}')"
   ]
  },
  {
   "cell_type": "code",
   "execution_count": null,
   "metadata": {},
   "outputs": [],
   "source": [
    "modelCNN.save('my_cnn_model.keras')"
   ]
  }
 ],
 "metadata": {
  "kernelspec": {
   "display_name": "Python 3",
   "language": "python",
   "name": "python3"
  },
  "language_info": {
   "codemirror_mode": {
    "name": "ipython",
    "version": 3
   },
   "file_extension": ".py",
   "mimetype": "text/x-python",
   "name": "python",
   "nbconvert_exporter": "python",
   "pygments_lexer": "ipython3",
   "version": "3.12.4"
  }
 },
 "nbformat": 4,
 "nbformat_minor": 2
}
